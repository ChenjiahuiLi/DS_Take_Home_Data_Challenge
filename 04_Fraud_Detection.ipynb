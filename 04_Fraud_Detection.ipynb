{
 "cells": [
  {
   "cell_type": "code",
   "execution_count": 1,
   "metadata": {},
   "outputs": [],
   "source": [
    "import numpy as np\n",
    "import pandas as pd"
   ]
  },
  {
   "cell_type": "markdown",
   "metadata": {},
   "source": [
    "## Data Import"
   ]
  },
  {
   "cell_type": "code",
   "execution_count": 2,
   "metadata": {},
   "outputs": [
    {
     "data": {
      "text/html": [
       "<div>\n",
       "<style scoped>\n",
       "    .dataframe tbody tr th:only-of-type {\n",
       "        vertical-align: middle;\n",
       "    }\n",
       "\n",
       "    .dataframe tbody tr th {\n",
       "        vertical-align: top;\n",
       "    }\n",
       "\n",
       "    .dataframe thead th {\n",
       "        text-align: right;\n",
       "    }\n",
       "</style>\n",
       "<table border=\"1\" class=\"dataframe\">\n",
       "  <thead>\n",
       "    <tr style=\"text-align: right;\">\n",
       "      <th></th>\n",
       "      <th>user_id</th>\n",
       "      <th>signup_time</th>\n",
       "      <th>purchase_time</th>\n",
       "      <th>purchase_value</th>\n",
       "      <th>device_id</th>\n",
       "      <th>source</th>\n",
       "      <th>browser</th>\n",
       "      <th>sex</th>\n",
       "      <th>age</th>\n",
       "      <th>ip_address</th>\n",
       "      <th>class</th>\n",
       "    </tr>\n",
       "  </thead>\n",
       "  <tbody>\n",
       "    <tr>\n",
       "      <th>0</th>\n",
       "      <td>22058</td>\n",
       "      <td>2015-02-24 22:55:49</td>\n",
       "      <td>2015-04-18 02:47:11</td>\n",
       "      <td>34</td>\n",
       "      <td>QVPSPJUOCKZAR</td>\n",
       "      <td>SEO</td>\n",
       "      <td>Chrome</td>\n",
       "      <td>M</td>\n",
       "      <td>39</td>\n",
       "      <td>7.327584e+08</td>\n",
       "      <td>0</td>\n",
       "    </tr>\n",
       "    <tr>\n",
       "      <th>1</th>\n",
       "      <td>333320</td>\n",
       "      <td>2015-06-07 20:39:50</td>\n",
       "      <td>2015-06-08 01:38:54</td>\n",
       "      <td>16</td>\n",
       "      <td>EOGFQPIZPYXFZ</td>\n",
       "      <td>Ads</td>\n",
       "      <td>Chrome</td>\n",
       "      <td>F</td>\n",
       "      <td>53</td>\n",
       "      <td>3.503114e+08</td>\n",
       "      <td>0</td>\n",
       "    </tr>\n",
       "    <tr>\n",
       "      <th>2</th>\n",
       "      <td>1359</td>\n",
       "      <td>2015-01-01 18:52:44</td>\n",
       "      <td>2015-01-01 18:52:45</td>\n",
       "      <td>15</td>\n",
       "      <td>YSSKYOSJHPPLJ</td>\n",
       "      <td>SEO</td>\n",
       "      <td>Opera</td>\n",
       "      <td>M</td>\n",
       "      <td>53</td>\n",
       "      <td>2.621474e+09</td>\n",
       "      <td>1</td>\n",
       "    </tr>\n",
       "  </tbody>\n",
       "</table>\n",
       "</div>"
      ],
      "text/plain": [
       "   user_id          signup_time        purchase_time  purchase_value  \\\n",
       "0    22058  2015-02-24 22:55:49  2015-04-18 02:47:11              34   \n",
       "1   333320  2015-06-07 20:39:50  2015-06-08 01:38:54              16   \n",
       "2     1359  2015-01-01 18:52:44  2015-01-01 18:52:45              15   \n",
       "\n",
       "       device_id source browser sex  age    ip_address  class  \n",
       "0  QVPSPJUOCKZAR    SEO  Chrome   M   39  7.327584e+08      0  \n",
       "1  EOGFQPIZPYXFZ    Ads  Chrome   F   53  3.503114e+08      0  \n",
       "2  YSSKYOSJHPPLJ    SEO   Opera   M   53  2.621474e+09      1  "
      ]
     },
     "execution_count": 2,
     "metadata": {},
     "output_type": "execute_result"
    }
   ],
   "source": [
    "fraud_data = pd.read_csv('./Fraud/Fraud_Data.csv')\n",
    "ip_address = pd.read_csv('./Fraud/IpAddress_to_Country.csv')\n",
    "fraud_data.head(3)"
   ]
  },
  {
   "cell_type": "markdown",
   "metadata": {},
   "source": [
    "### Feature engineering, step 1: map country to every transaction based on ip_address "
   ]
  },
  {
   "cell_type": "code",
   "execution_count": 3,
   "metadata": {},
   "outputs": [
    {
     "data": {
      "text/plain": [
       "(138846, 4)"
      ]
     },
     "execution_count": 3,
     "metadata": {},
     "output_type": "execute_result"
    }
   ],
   "source": [
    "ip_address['high_low_delta'] = ip_address['upper_bound_ip_address'] - ip_address['lower_bound_ip_address']\n",
    "ip_address.shape"
   ]
  },
  {
   "cell_type": "markdown",
   "metadata": {},
   "source": [
    "Given the huge amount of ip_address intervals (138,846 of them) involved in this \"mapping ip_address into country\" problem, we need to come up with a smarter way to do this. First sort ip_address dataframe by lower_bound_up_address column in ascending order."
   ]
  },
  {
   "cell_type": "code",
   "execution_count": 98,
   "metadata": {},
   "outputs": [
    {
     "data": {
      "text/plain": [
       "lower_bound_ip_address    3.7581e+09\n",
       "upper_bound_ip_address    3758096383\n",
       "country                    Australia\n",
       "high_low_delta                   255\n",
       "Name: 138845, dtype: object"
      ]
     },
     "execution_count": 98,
     "metadata": {},
     "output_type": "execute_result"
    }
   ],
   "source": [
    "ip_address.iloc[- 1, ]"
   ]
  },
  {
   "cell_type": "code",
   "execution_count": 81,
   "metadata": {},
   "outputs": [],
   "source": [
    "# Version_1\n",
    "def find_interval_1(ip, df, index_by_col,return_by_col):\n",
    "    df = df.sort_values(by = index_by_col)\n",
    "    lower_bound_list = df[index_by_col]\n",
    "    delta = lower_bound_list.apply(lambda x : ip - x)\n",
    "    delta = delta.clip_lower(0) # clip_lower(threshold) turn the values lower than the threshold into the input threshold value\n",
    "    minimum = np.argmin(delta) - 1 # will return the last positive number's index, have to go backwards one index \n",
    "    country = df.iloc[minimum,][return_by_col]\n",
    "    return(country)  "
   ]
  },
  {
   "cell_type": "code",
   "execution_count": 101,
   "metadata": {},
   "outputs": [],
   "source": [
    "def find_interval(ip, df, lower, country):\n",
    "    # ip is the ip_address taken out from each row of fraud_data \n",
    "    # df is the check-up table for all the ip_address, intervals, and country\n",
    "    # index_by_col: the column in df to compare ip_address from the ip argument\n",
    "    # return_by_col: return the country column in df\n",
    "    \n",
    "    df = df.sort_values(by = lower)\n",
    "    lower_bound_list = df[lower]\n",
    "    delta = lower_bound_list.apply(lambda x : ip - x)\n",
    "    delta = delta.loc[delta >= 0] # delete all the negative rows\n",
    "    \n",
    "    remain_list_length = delta.size\n",
    "    \n",
    "    # when ip is smaller than the smallest lower_bound_ip_address\n",
    "    if remain_list_length == 0:\n",
    "        return(None)\n",
    "    # when ip is larger than the largest upper_bound_ip_address\n",
    "    if remain_list_length == df.shape[0]:\n",
    "        if ip > df.iloc[-1,]['upper_bound_ip_address']:\n",
    "            return(None)\n",
    "            \n",
    "    # the last row of delta, represent the largest lower_bound_ip_address that is lower than the ip \n",
    "    # remember that the df.iloc[index,] start from 0, so to retrive the index of the last row, \n",
    "    # we shall subtract 1 from length\n",
    "    minimum = remain_list_length - 1\n",
    "    \n",
    "    \n",
    "    \"\"\"\n",
    "    minimum = np.argmin(delta)\n",
    "    country = df.iloc[minimum,][country]\n",
    "    return(country)\n",
    "    \"\"\"\n",
    "    return(minimum)"
   ]
  },
  {
   "cell_type": "code",
   "execution_count": 102,
   "metadata": {},
   "outputs": [
    {
     "data": {
      "text/plain": [
       "1017"
      ]
     },
     "execution_count": 102,
     "metadata": {},
     "output_type": "execute_result"
    }
   ],
   "source": [
    "# test on the first row of fraud_data\n",
    "ip_sample = fraud_data.iloc[1,]['ip_address']\n",
    "find_interval(ip_sample, ip_address, 'lower_bound_ip_address', 'country')\n",
    "#find_interval(ip_sample)"
   ]
  },
  {
   "cell_type": "code",
   "execution_count": 120,
   "metadata": {},
   "outputs": [
    {
     "name": "stdout",
     "output_type": "stream",
     "text": [
      "None\n",
      "0\n",
      "None\n",
      "138845\n",
      "ip_address: %s 732758368.79972\n",
      "lower_bound_ip_address    7.29809e+08\n",
      "upper_bound_ip_address      734003199\n",
      "country                         Japan\n",
      "high_low_delta             4.1943e+06\n",
      "Name: 4554, dtype: object\n"
     ]
    }
   ],
   "source": [
    "# test cases\n",
    "\n",
    "# too small ->None\n",
    "ip1 = ip_address.iloc[0,]['lower_bound_ip_address'] - 1\n",
    "print(find_interval(ip1, ip_address, 'lower_bound_ip_address', 'country'))\n",
    "\n",
    "# the smallest ip_address => 0\n",
    "ip2 = ip_address.iloc[0,]['lower_bound_ip_address'] \n",
    "print(find_interval(ip2, ip_address, 'lower_bound_ip_address', 'country'))\n",
    "\n",
    "# too large -> None\n",
    "ip3 = ip_address.iloc[-1,]['upper_bound_ip_address'] + 1\n",
    "print(find_interval(ip3, ip_address, 'lower_bound_ip_address', 'country'))\n",
    "\n",
    "# the largest ip_address -> ip_address.shape[0] - 1\n",
    "ip4 = ip_address.iloc[-1,]['upper_bound_ip_address'] \n",
    "print(find_interval(ip4, ip_address, 'lower_bound_ip_address', 'country'))\n",
    "\n",
    "ip5 = fraud_data.iloc[0,]['ip_address']\n",
    "print('ip_address: %s', ip5)\n",
    "print(ip_address.iloc[find_interval(ip5, ip_address, 'lower_bound_ip_address', 'country'),])"
   ]
  },
  {
   "cell_type": "code",
   "execution_count": 92,
   "metadata": {},
   "outputs": [
    {
     "data": {
      "text/plain": [
       "lower_bound_ip_address      3.52322e+08\n",
       "upper_bound_ip_address        369098751\n",
       "country                   United States\n",
       "high_low_delta              1.67772e+07\n",
       "Name: 1018, dtype: object"
      ]
     },
     "execution_count": 92,
     "metadata": {},
     "output_type": "execute_result"
    }
   ],
   "source": []
  },
  {
   "cell_type": "code",
   "execution_count": null,
   "metadata": {},
   "outputs": [],
   "source": []
  }
 ],
 "metadata": {
  "kernelspec": {
   "display_name": "Python 3",
   "language": "python",
   "name": "python3"
  },
  "language_info": {
   "codemirror_mode": {
    "name": "ipython",
    "version": 3
   },
   "file_extension": ".py",
   "mimetype": "text/x-python",
   "name": "python",
   "nbconvert_exporter": "python",
   "pygments_lexer": "ipython3",
   "version": "3.6.5"
  }
 },
 "nbformat": 4,
 "nbformat_minor": 2
}
